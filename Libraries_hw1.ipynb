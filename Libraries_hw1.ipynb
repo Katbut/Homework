{
  "nbformat": 4,
  "nbformat_minor": 5,
  "metadata": {
    "kernelspec": {
      "display_name": "Python 3",
      "language": "python",
      "name": "python3"
    },
    "language_info": {
      "codemirror_mode": {
        "name": "ipython",
        "version": 3
      },
      "file_extension": ".py",
      "mimetype": "text/x-python",
      "name": "python",
      "nbconvert_exporter": "python",
      "pygments_lexer": "ipython3",
      "version": "3.8.8"
    },
    "colab": {
      "name": "Libraries_hw1.ipynb",
      "provenance": [],
      "include_colab_link": true
    }
  },
  "cells": [
    {
      "cell_type": "markdown",
      "metadata": {
        "id": "view-in-github",
        "colab_type": "text"
      },
      "source": [
        "<a href=\"https://colab.research.google.com/github/Katbut/Homework/blob/main/Libraries_hw1.ipynb\" target=\"_parent\"><img src=\"https://colab.research.google.com/assets/colab-badge.svg\" alt=\"Open In Colab\"/></a>"
      ]
    },
    {
      "cell_type": "code",
      "metadata": {
        "id": "9a4b5072",
        "outputId": "448287b2-4674-4f11-9a84-c8e5e6de3439"
      },
      "source": [
        "print('Вычисления с помощью Numpy')\n",
        "print('Задание1')\n",
        "import numpy as np\n",
        "a = np.array([[1, 6],\n",
        "[2, 8,],\n",
        "[3, 11,],\n",
        "[3, 10,],\n",
        "[1, 7,]])\n",
        "print(a)\n",
        "print(\"Количество наблюдений,признаков {}\".format(a.shape))\n",
        "N= a.shape\n",
        "\n",
        "\n",
        "print(\"Средние значения : {}\".format(a.mean(axis=0)))\n",
        "\n",
        "mean_a= a.mean(axis=0)\n",
        "print('')\n",
        "print('Задание 2')\n",
        "\n",
        "a_centered = np.subtract(a, mean_a)\n",
        "print('Частное массивов исходного и среднего')\n",
        "print (a_centered)\n",
        "\n",
        "print('')\n",
        "print('Задание 3')\n",
        "a1=a_centered[:,0]\n",
        "a2=a_centered[:,1]\n",
        "a_centered_sp=np.dot(a1,a2)\n",
        "print(a_centered_sp)\n",
        "N=a.shape[0]\n",
        "print(N)\n",
        "my_cov=a_centered_sp/(N-1)\n",
        "print(\"My_cov:\", my_cov)\n",
        "\n",
        "print('')\n",
        "print('Задание 4')\n",
        "np.cov(a.transpose())\n",
        "print('For commit str111')\n",
        "\n"
      ],
      "id": "9a4b5072",
      "execution_count": null,
      "outputs": [
        {
          "name": "stdout",
          "output_type": "stream",
          "text": [
            "Вычисления с помощью Numpy\n",
            "Задание1\n",
            "[[ 1  6]\n",
            " [ 2  8]\n",
            " [ 3 11]\n",
            " [ 3 10]\n",
            " [ 1  7]]\n",
            "Количество наблюдений,признаков (5, 2)\n",
            "Средние значения : [2.  8.4]\n",
            "\n",
            "Задание 2\n",
            "Частное массивов исходного и среднего\n",
            "[[-1.  -2.4]\n",
            " [ 0.  -0.4]\n",
            " [ 1.   2.6]\n",
            " [ 1.   1.6]\n",
            " [-1.  -1.4]]\n",
            "\n",
            "Задание 3\n",
            "8.0\n",
            "5\n",
            "My_cov: 2.0\n",
            "\n",
            "Задание 4\n",
            "For commit str\n"
          ]
        }
      ]
    },
    {
      "cell_type": "markdown",
      "metadata": {
        "id": "R13Sfs7QLV-u"
      },
      "source": [
        "# Новый раздел"
      ],
      "id": "R13Sfs7QLV-u"
    },
    {
      "cell_type": "code",
      "metadata": {
        "id": "b669467b"
      },
      "source": [
        ""
      ],
      "id": "b669467b",
      "execution_count": null,
      "outputs": []
    }
  ]
}