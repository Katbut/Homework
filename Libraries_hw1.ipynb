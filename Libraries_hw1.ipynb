{
  "nbformat": 4,
  "nbformat_minor": 5,
  "metadata": {
    "kernelspec": {
      "display_name": "Python 3",
      "language": "python",
      "name": "python3"
    },
    "language_info": {
      "codemirror_mode": {
        "name": "ipython",
        "version": 3
      },
      "file_extension": ".py",
      "mimetype": "text/x-python",
      "name": "python",
      "nbconvert_exporter": "python",
      "pygments_lexer": "ipython3",
      "version": "3.8.8"
    },
    "colab": {
      "name": "Libraries_hw1.ipynb",
      "provenance": [],
      "collapsed_sections": [],
      "include_colab_link": true
    }
  },
  "cells": [
    {
      "cell_type": "markdown",
      "metadata": {
        "id": "view-in-github",
        "colab_type": "text"
      },
      "source": [
        "<a href=\"https://colab.research.google.com/github/Katbut/Homework/blob/main/Libraries_hw1.ipynb\" target=\"_parent\"><img src=\"https://colab.research.google.com/assets/colab-badge.svg\" alt=\"Open In Colab\"/></a>"
      ]
    },
    {
      "cell_type": "code",
      "metadata": {
        "id": "9a4b5072",
        "outputId": "448287b2-4674-4f11-9a84-c8e5e6de3439"
      },
      "source": [
        "print('Вычисления с помощью Numpy')\n",
        "print('Задание1')\n",
        "import numpy as np\n",
        "a = np.array([[1, 6],\n",
        "[2, 8,],\n",
        "[3, 11,],\n",
        "[3, 10,],\n",
        "[1, 7,]])\n",
        "print(a)\n",
        "print(\"Количество наблюдений,признаков {}\".format(a.shape))\n",
        "N= a.shape\n",
        "\n",
        "\n",
        "print(\"Средние значения : {}\".format(a.mean(axis=0)))\n",
        "\n",
        "mean_a= a.mean(axis=0)\n",
        "print('')\n",
        "print('Задание 2')\n",
        "\n",
        "a_centered = np.subtract(a, mean_a)\n",
        "print('Частное массивов исходного и среднего')\n",
        "print (a_centered)\n",
        "\n",
        "print('')\n",
        "print('Задание 3')\n",
        "a1=a_centered[:,0]\n",
        "a2=a_centered[:,1]\n",
        "a_centered_sp=np.dot(a1,a2)\n",
        "print(a_centered_sp)\n",
        "N=a.shape[0]\n",
        "print(N)\n",
        "my_cov=a_centered_sp/(N-1)\n",
        "print(\"My_cov:\", my_cov)\n",
        "\n",
        "print('')\n",
        "print('Задание 4')\n",
        "np.cov(a.transpose())\n",
        "print('For commit str111')\n",
        "\n"
      ],
      "id": "9a4b5072",
      "execution_count": null,
      "outputs": [
        {
          "name": "stdout",
          "output_type": "stream",
          "text": [
            "Вычисления с помощью Numpy\n",
            "Задание1\n",
            "[[ 1  6]\n",
            " [ 2  8]\n",
            " [ 3 11]\n",
            " [ 3 10]\n",
            " [ 1  7]]\n",
            "Количество наблюдений,признаков (5, 2)\n",
            "Средние значения : [2.  8.4]\n",
            "\n",
            "Задание 2\n",
            "Частное массивов исходного и среднего\n",
            "[[-1.  -2.4]\n",
            " [ 0.  -0.4]\n",
            " [ 1.   2.6]\n",
            " [ 1.   1.6]\n",
            " [-1.  -1.4]]\n",
            "\n",
            "Задание 3\n",
            "8.0\n",
            "5\n",
            "My_cov: 2.0\n",
            "\n",
            "Задание 4\n",
            "For commit str\n"
          ]
        }
      ]
    },
    {
      "cell_type": "markdown",
      "metadata": {
        "id": "R13Sfs7QLV-u"
      },
      "source": [
        "# Вычисления с Pandas\n"
      ],
      "id": "R13Sfs7QLV-u"
    },
    {
      "cell_type": "code",
      "metadata": {
        "id": "b669467b",
        "colab": {
          "base_uri": "https://localhost:8080/",
          "height": 268
        },
        "outputId": "9d4216f6-3e0b-4c83-a5a4-dc2aa9a674c5"
      },
      "source": [
        "import pandas as pd\n",
        "\n",
        "a= {\n",
        "    \"author_id\": [1,2,3],\n",
        "    \"author_name\":['Тургенев','Чехов','Островский']\n",
        "}\n",
        "authors=pd.DataFrame(a)\n",
        "\n",
        "authors\n",
        "\n",
        "b ={\n",
        "    \"author_id\": [1, 1, 1, 2, 2, 3, 3],\n",
        "    \"book_title\":['Отцы и дети', 'Рудин', 'Дворянское гнездо', 'Толстый и тонкий', 'Дама с собачкой', 'Гроза', 'Таланты и поклонники'],\n",
        "    \"price\":[450, 300, 350, 500, 450, 370, 290]\n",
        "}\n",
        "books = pd.DataFrame(b)\n",
        "\n",
        "books\n"
      ],
      "id": "b669467b",
      "execution_count": 11,
      "outputs": [
        {
          "output_type": "execute_result",
          "data": {
            "text/html": [
              "<div>\n",
              "<style scoped>\n",
              "    .dataframe tbody tr th:only-of-type {\n",
              "        vertical-align: middle;\n",
              "    }\n",
              "\n",
              "    .dataframe tbody tr th {\n",
              "        vertical-align: top;\n",
              "    }\n",
              "\n",
              "    .dataframe thead th {\n",
              "        text-align: right;\n",
              "    }\n",
              "</style>\n",
              "<table border=\"1\" class=\"dataframe\">\n",
              "  <thead>\n",
              "    <tr style=\"text-align: right;\">\n",
              "      <th></th>\n",
              "      <th>author_id</th>\n",
              "      <th>book_title</th>\n",
              "      <th>price</th>\n",
              "    </tr>\n",
              "  </thead>\n",
              "  <tbody>\n",
              "    <tr>\n",
              "      <th>0</th>\n",
              "      <td>1</td>\n",
              "      <td>Отцы и дети</td>\n",
              "      <td>450</td>\n",
              "    </tr>\n",
              "    <tr>\n",
              "      <th>1</th>\n",
              "      <td>1</td>\n",
              "      <td>Рудин</td>\n",
              "      <td>300</td>\n",
              "    </tr>\n",
              "    <tr>\n",
              "      <th>2</th>\n",
              "      <td>1</td>\n",
              "      <td>Дворянское гнездо</td>\n",
              "      <td>350</td>\n",
              "    </tr>\n",
              "    <tr>\n",
              "      <th>3</th>\n",
              "      <td>2</td>\n",
              "      <td>Толстый и тонкий</td>\n",
              "      <td>500</td>\n",
              "    </tr>\n",
              "    <tr>\n",
              "      <th>4</th>\n",
              "      <td>2</td>\n",
              "      <td>Дама с собачкой</td>\n",
              "      <td>450</td>\n",
              "    </tr>\n",
              "    <tr>\n",
              "      <th>5</th>\n",
              "      <td>3</td>\n",
              "      <td>Гроза</td>\n",
              "      <td>370</td>\n",
              "    </tr>\n",
              "    <tr>\n",
              "      <th>6</th>\n",
              "      <td>3</td>\n",
              "      <td>Таланты и поклонники</td>\n",
              "      <td>290</td>\n",
              "    </tr>\n",
              "  </tbody>\n",
              "</table>\n",
              "</div>"
            ],
            "text/plain": [
              "   author_id            book_title  price\n",
              "0          1           Отцы и дети    450\n",
              "1          1                 Рудин    300\n",
              "2          1     Дворянское гнездо    350\n",
              "3          2      Толстый и тонкий    500\n",
              "4          2       Дама с собачкой    450\n",
              "5          3                 Гроза    370\n",
              "6          3  Таланты и поклонники    290"
            ]
          },
          "metadata": {},
          "execution_count": 11
        }
      ]
    },
    {
      "cell_type": "code",
      "metadata": {
        "colab": {
          "base_uri": "https://localhost:8080/",
          "height": 205
        },
        "id": "qrH-G3td66kr",
        "outputId": "8ff4b875-cfa5-4860-c671-9c85678b0bd6"
      },
      "source": [
        "authors_price = pd.merge(authors, books, on='author_id', how='inner')\n",
        "\n",
        "authors_price\n",
        "\n",
        "top5 = books.nlargest(5, \"price\")\n",
        "top5\n",
        "\n"
      ],
      "id": "qrH-G3td66kr",
      "execution_count": 16,
      "outputs": [
        {
          "output_type": "execute_result",
          "data": {
            "text/html": [
              "<div>\n",
              "<style scoped>\n",
              "    .dataframe tbody tr th:only-of-type {\n",
              "        vertical-align: middle;\n",
              "    }\n",
              "\n",
              "    .dataframe tbody tr th {\n",
              "        vertical-align: top;\n",
              "    }\n",
              "\n",
              "    .dataframe thead th {\n",
              "        text-align: right;\n",
              "    }\n",
              "</style>\n",
              "<table border=\"1\" class=\"dataframe\">\n",
              "  <thead>\n",
              "    <tr style=\"text-align: right;\">\n",
              "      <th></th>\n",
              "      <th>author_id</th>\n",
              "      <th>book_title</th>\n",
              "      <th>price</th>\n",
              "    </tr>\n",
              "  </thead>\n",
              "  <tbody>\n",
              "    <tr>\n",
              "      <th>3</th>\n",
              "      <td>2</td>\n",
              "      <td>Толстый и тонкий</td>\n",
              "      <td>500</td>\n",
              "    </tr>\n",
              "    <tr>\n",
              "      <th>0</th>\n",
              "      <td>1</td>\n",
              "      <td>Отцы и дети</td>\n",
              "      <td>450</td>\n",
              "    </tr>\n",
              "    <tr>\n",
              "      <th>4</th>\n",
              "      <td>2</td>\n",
              "      <td>Дама с собачкой</td>\n",
              "      <td>450</td>\n",
              "    </tr>\n",
              "    <tr>\n",
              "      <th>5</th>\n",
              "      <td>3</td>\n",
              "      <td>Гроза</td>\n",
              "      <td>370</td>\n",
              "    </tr>\n",
              "    <tr>\n",
              "      <th>2</th>\n",
              "      <td>1</td>\n",
              "      <td>Дворянское гнездо</td>\n",
              "      <td>350</td>\n",
              "    </tr>\n",
              "  </tbody>\n",
              "</table>\n",
              "</div>"
            ],
            "text/plain": [
              "   author_id         book_title  price\n",
              "3          2   Толстый и тонкий    500\n",
              "0          1        Отцы и дети    450\n",
              "4          2    Дама с собачкой    450\n",
              "5          3              Гроза    370\n",
              "2          1  Дворянское гнездо    350"
            ]
          },
          "metadata": {},
          "execution_count": 16
        }
      ]
    },
    {
      "cell_type": "code",
      "metadata": {
        "colab": {
          "base_uri": "https://localhost:8080/",
          "height": 174
        },
        "id": "S_Z7YeVu7LtC",
        "outputId": "31bd2db7-ea24-48e0-80fe-c68fd207440a"
      },
      "source": [
        "\n",
        "df1 = authors_price.groupby('author_name').agg({'price': 'min'}).rename(columns={'price':'min_price'})\n",
        "\n",
        "df2 = authors_price.groupby('author_name').agg({'price': 'max'}).rename(columns={'price':'max_price'})\n",
        "\n",
        "df3 = authors_price.groupby('author_name').agg({'price': 'mean'}).rename(columns={'price':'mean_price'})\n",
        "\n",
        "authors_stat=pd.concat([df1, df2, df3], axis = 1)\n",
        "\n",
        "authors_stat\n",
        "\n",
        "\n"
      ],
      "id": "S_Z7YeVu7LtC",
      "execution_count": 17,
      "outputs": [
        {
          "output_type": "execute_result",
          "data": {
            "text/html": [
              "<div>\n",
              "<style scoped>\n",
              "    .dataframe tbody tr th:only-of-type {\n",
              "        vertical-align: middle;\n",
              "    }\n",
              "\n",
              "    .dataframe tbody tr th {\n",
              "        vertical-align: top;\n",
              "    }\n",
              "\n",
              "    .dataframe thead th {\n",
              "        text-align: right;\n",
              "    }\n",
              "</style>\n",
              "<table border=\"1\" class=\"dataframe\">\n",
              "  <thead>\n",
              "    <tr style=\"text-align: right;\">\n",
              "      <th></th>\n",
              "      <th>min_price</th>\n",
              "      <th>max_price</th>\n",
              "      <th>mean_price</th>\n",
              "    </tr>\n",
              "    <tr>\n",
              "      <th>author_name</th>\n",
              "      <th></th>\n",
              "      <th></th>\n",
              "      <th></th>\n",
              "    </tr>\n",
              "  </thead>\n",
              "  <tbody>\n",
              "    <tr>\n",
              "      <th>Островский</th>\n",
              "      <td>290</td>\n",
              "      <td>370</td>\n",
              "      <td>330.000000</td>\n",
              "    </tr>\n",
              "    <tr>\n",
              "      <th>Тургенев</th>\n",
              "      <td>300</td>\n",
              "      <td>450</td>\n",
              "      <td>366.666667</td>\n",
              "    </tr>\n",
              "    <tr>\n",
              "      <th>Чехов</th>\n",
              "      <td>450</td>\n",
              "      <td>500</td>\n",
              "      <td>475.000000</td>\n",
              "    </tr>\n",
              "  </tbody>\n",
              "</table>\n",
              "</div>"
            ],
            "text/plain": [
              "             min_price  max_price  mean_price\n",
              "author_name                                  \n",
              "Островский         290        370  330.000000\n",
              "Тургенев           300        450  366.666667\n",
              "Чехов              450        500  475.000000"
            ]
          },
          "metadata": {},
          "execution_count": 17
        }
      ]
    },
    {
      "cell_type": "code",
      "metadata": {
        "id": "nhWaf5Sk89XE"
      },
      "source": [
        "#Вопрос- Можно ли написать последнее задание как-то по-другому? В таком виде не работает, немного не понимаю почему.\n",
        "col1=authors[\"author_id\"]\n",
        "col2=books[\"price\"].min()\n",
        "col3=books[\"price\"].max()\n",
        "col4=books[\"price\"].mean()\n",
        "c ={\n",
        "    \"author_name\": [col1],\n",
        "    \"min_price\":[col2],\n",
        "    \"max_price\":[col3],\n",
        "    \"mean_price\":[col4]\n",
        "}\n",
        "authors_stat=pd.DataFrame(c)\n",
        "authors_stat"
      ],
      "id": "nhWaf5Sk89XE",
      "execution_count": null,
      "outputs": []
    }
  ]
}