{
  "nbformat": 4,
  "nbformat_minor": 0,
  "metadata": {
    "colab": {
      "name": "Дз 2.1. Линейная алгебра.ipynb",
      "provenance": [],
      "authorship_tag": "ABX9TyMVnRISXoFAR8oNIO2QZQSu",
      "include_colab_link": true
    },
    "kernelspec": {
      "name": "python3",
      "display_name": "Python 3"
    },
    "language_info": {
      "name": "python"
    }
  },
  "cells": [
    {
      "cell_type": "markdown",
      "metadata": {
        "id": "view-in-github",
        "colab_type": "text"
      },
      "source": [
        "<a href=\"https://colab.research.google.com/github/Katbut/Homework/blob/main/%D0%94%D0%B7_2_1_%D0%9B%D0%B8%D0%BD%D0%B5%D0%B9%D0%BD%D0%B0%D1%8F_%D0%B0%D0%BB%D0%B3%D0%B5%D0%B1%D1%80%D0%B0.ipynb\" target=\"_parent\"><img src=\"https://colab.research.google.com/assets/colab-badge.svg\" alt=\"Open In Colab\"/></a>"
      ]
    },
    {
      "cell_type": "code",
      "execution_count": 2,
      "metadata": {
        "id": "lbQQcIC9ju_O"
      },
      "outputs": [],
      "source": [
        "import numpy as np"
      ]
    },
    {
      "cell_type": "code",
      "execution_count": 4,
      "metadata": {
        "id": "byP9e5P6IIJe",
        "outputId": "189150b4-f9e1-4f7d-bdac-9f10a7e75101",
        "colab": {
          "base_uri": "https://localhost:8080/"
        }
      },
      "outputs": [
        {
          "output_type": "stream",
          "name": "stdout",
          "text": [
            "Матрица A\n",
            "[[ 1 -2]\n",
            " [ 3  0]]\n",
            "Матрица B\n",
            "[[ 4 -1]\n",
            " [ 0  5]]\n",
            "Сумма матриц A+B\n",
            "[[ 5 -3]\n",
            " [ 3  5]]\n",
            "Матрица AB\n",
            "[[  4 -11]\n",
            " [ 12  -3]]\n",
            "Матрица ВА\n",
            "[[ 1 -8]\n",
            " [15  0]]\n"
          ]
        }
      ],
      "source": [
        "A = np.array([[1, -2], [3,0]])\n",
        "B = np.array([[4, -1], [0,5]])\n",
        "\n",
        "\n",
        "print(f'Матрица A\\n{A}')\n",
        "print(f'Матрица B\\n{B}')\n",
        "\n",
        "print(f'Сумма матриц A+B\\n{A+B}')\n",
        "\n",
        "print(f'Матрица AB\\n{np.dot(A, B)}')\n",
        "print(f'Матрица ВА\\n{B.dot(A)}')\n"
      ]
    },
    {
      "cell_type": "code",
      "source": [
        "A = np.array([[1, 7], [3,-6]])\n",
        "B = np.array([[0, 5], [2,-1]])\n",
        "C = np.array([[2, -4], [1,1]])\n",
        "\n",
        "print(f'Матрица A\\n{A}')\n",
        "print(f'Матрица B\\n{B}')\n",
        "print(f'Матрица C\\n{C}')\n",
        "print(f'Подсчет 3А-2В+4С')\n",
        "\n",
        "x=3\n",
        "y=-2\n",
        "z=4\n",
        "\n",
        "print(f'решение\\n{x*A+y*B+z*C}')\n"
      ],
      "metadata": {
        "colab": {
          "base_uri": "https://localhost:8080/"
        },
        "id": "b7kznN4ElJ9g",
        "outputId": "421c6293-dd48-4f03-ddf0-173cdaab9596"
      },
      "execution_count": 6,
      "outputs": [
        {
          "output_type": "stream",
          "name": "stdout",
          "text": [
            "Матрица A\n",
            "[[ 1  7]\n",
            " [ 3 -6]]\n",
            "Матрица B\n",
            "[[ 0  5]\n",
            " [ 2 -1]]\n",
            "Матрица C\n",
            "[[ 2 -4]\n",
            " [ 1  1]]\n",
            "Подсчет 3А-2В+4С\n",
            "решение\n",
            "[[ 11  -5]\n",
            " [  9 -12]]\n"
          ]
        }
      ]
    },
    {
      "cell_type": "code",
      "source": [
        "a = np.array([[4,1], [5,-2], [2,3]])\n",
        "\n",
        "print(f'Матрица:\\n{a}')\n",
        "print(f'Транспонированная матрица:\\n{a.T}')\n",
        "\n",
        "print(f'результат а*аТ:\\n{np.dot(a, a.T)}')\n",
        "print(f'результат аТ*а:\\n{np.dot(a.T, a)}')"
      ],
      "metadata": {
        "colab": {
          "base_uri": "https://localhost:8080/"
        },
        "id": "s7_DVau5mKrV",
        "outputId": "b24da7e9-104f-4d71-d97d-9b62fca3c3c6"
      },
      "execution_count": 7,
      "outputs": [
        {
          "output_type": "stream",
          "name": "stdout",
          "text": [
            "Матрица:\n",
            "[[ 4  1]\n",
            " [ 5 -2]\n",
            " [ 2  3]]\n",
            "Транспонированная матрица:\n",
            "[[ 4  5  2]\n",
            " [ 1 -2  3]]\n",
            "результат а*аТ:\n",
            "[[17 18 11]\n",
            " [18 29  4]\n",
            " [11  4 13]]\n",
            "результат аТ*а:\n",
            "[[45  0]\n",
            " [ 0 14]]\n"
          ]
        }
      ]
    }
  ]
}