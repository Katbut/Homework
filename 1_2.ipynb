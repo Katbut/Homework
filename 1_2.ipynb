{
  "nbformat": 4,
  "nbformat_minor": 0,
  "metadata": {
    "colab": {
      "name": "Untitled4.ipynb",
      "provenance": [],
      "authorship_tag": "ABX9TyNZScJYpc10EwsKOLGok77F",
      "include_colab_link": true
    },
    "kernelspec": {
      "name": "python3",
      "display_name": "Python 3"
    },
    "language_info": {
      "name": "python"
    }
  },
  "cells": [
    {
      "cell_type": "markdown",
      "metadata": {
        "id": "view-in-github",
        "colab_type": "text"
      },
      "source": [
        "<a href=\"https://colab.research.google.com/github/Katbut/Homework/blob/main/1_2.ipynb\" target=\"_parent\"><img src=\"https://colab.research.google.com/assets/colab-badge.svg\" alt=\"Open In Colab\"/></a>"
      ]
    },
    {
      "cell_type": "code",
      "execution_count": null,
      "metadata": {
        "id": "2alOh4fL6OU1"
      },
      "outputs": [],
      "source": [
        "import requests\n",
        "\n",
        "url='https://api.nasa.gov/planetary/apod?api_key=uQAW7lNbjkbMM12Z7GDjeTlCERcNtcyfcpoi6R0M'\n",
        "planet_data=requests.get('https://api.nasa.gov/mars-photos/api/v1/rovers/curiosity/photos?sol=1000&api_key=uQAW7lNbjkbMM12Z7GDjeTlCERcNtcyfcpoi6R0M')\n",
        "print(planet_data)\n",
        "earth_photos=requests.get('https://api.nasa.gov/planetary/earth/imagery?lon=100.75&lat=1.5&date=2020-02-01&api_key=uQAW7lNbjkbMM12Z7GDjeTlCERcNtcyfcpoi6R0M')\n",
        "print(earth_photos)"
      ]
    }
  ]
}