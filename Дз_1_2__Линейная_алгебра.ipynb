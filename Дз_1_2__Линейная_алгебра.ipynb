{
  "cells": [
    {
      "cell_type": "markdown",
      "metadata": {
        "id": "view-in-github",
        "colab_type": "text"
      },
      "source": [
        "<a href=\"https://colab.research.google.com/github/Katbut/Homework/blob/main/%D0%94%D0%B7_1_2__%D0%9B%D0%B8%D0%BD%D0%B5%D0%B9%D0%BD%D0%B0%D1%8F_%D0%B0%D0%BB%D0%B3%D0%B5%D0%B1%D1%80%D0%B0.ipynb\" target=\"_parent\"><img src=\"https://colab.research.google.com/assets/colab-badge.svg\" alt=\"Open In Colab\"/></a>"
      ]
    },
    {
      "cell_type": "markdown",
      "source": [
        "Доомашнее задание 1.2. Линейная алгебра."
      ],
      "metadata": {
        "id": "a8yR5Zqh7UEQ"
      }
    },
    {
      "cell_type": "code",
      "source": [
        "import numpy as np\n",
        "from numpy.linalg import norm"
      ],
      "metadata": {
        "id": "ujDQx36yWL_a"
      },
      "execution_count": 11,
      "outputs": []
    },
    {
      "cell_type": "markdown",
      "source": [
        "1. Найти скалярное произведение векторов  x,y∈R :\n",
        "а)  x=(0,−3,6), y=(−4,7,9); \n",
        "б)  x=(7,−4,0,1), y=(−3,1,11,2)."
      ],
      "metadata": {
        "id": "-mcsSGFp7X3l"
      }
    },
    {
      "cell_type": "code",
      "source": [
        "a = np.array([0, -3, 6])\n",
        "b = np.array([-4, 7, 9])\n",
        "print(f'Скалярное произведение a и b:\\n{np.dot(a, b)}')\n",
        "print(f'Скалярное произведение a и b:\\n{a.dot(b)}')\n",
        "print(f'Скалярное произведение a и b:\\n{b.dot(a)}')\n",
        "print(f'Скалярное произведение a и b:\\n{a @ b}')"
      ],
      "metadata": {
        "colab": {
          "base_uri": "https://localhost:8080/"
        },
        "id": "5L7EuEkB7YHq",
        "outputId": "d0648926-e429-47b5-d411-95d07cf8faf3"
      },
      "execution_count": 3,
      "outputs": [
        {
          "output_type": "stream",
          "name": "stdout",
          "text": [
            "Скалярное произведение a и b:\n",
            "33\n",
            "Скалярное произведение a и b:\n",
            "33\n",
            "Скалярное произведение a и b:\n",
            "33\n",
            "Скалярное произведение a и b:\n",
            "33\n"
          ]
        }
      ]
    },
    {
      "cell_type": "code",
      "source": [
        "a = np.array([7, -4, 0, 1])\n",
        "b = np.array([-3, 1, 11,2])\n",
        "print(f'Скалярное произведение a и b:\\n{np.dot(a, b)}')\n",
        "print(f'Скалярное произведение a и b:\\n{a.dot(b)}')\n",
        "print(f'Скалярное произведение a и b:\\n{b.dot(a)}')\n",
        "print(f'Скалярное произведение a и b:\\n{a @ b}')"
      ],
      "metadata": {
        "colab": {
          "base_uri": "https://localhost:8080/"
        },
        "outputId": "e8efd063-817d-467a-f31f-1cf0b30e9a5e",
        "id": "ho2PBkWcZT2p"
      },
      "execution_count": 4,
      "outputs": [
        {
          "output_type": "stream",
          "name": "stdout",
          "text": [
            "Скалярное произведение a и b:\n",
            "-23\n",
            "Скалярное произведение a и b:\n",
            "-23\n",
            "Скалярное произведение a и b:\n",
            "-23\n",
            "Скалярное произведение a и b:\n",
            "-23\n"
          ]
        }
      ]
    },
    {
      "cell_type": "markdown",
      "source": [
        "2. Найти нормы векторов  (4,2,4)  и  (12,3,4)  и угол между ними."
      ],
      "metadata": {
        "id": "znBqn3h3NwOL"
      }
    },
    {
      "cell_type": "code",
      "source": [
        "a = np.array([4, 2, 4])\n",
        "b = np.array([12,3,4])"
      ],
      "metadata": {
        "id": "a2ddogq3NxB-"
      },
      "execution_count": 8,
      "outputs": []
    },
    {
      "cell_type": "code",
      "source": [
        "print(f'l2 норма вектора a:\\n{norm(a, ord=2)}')\n",
        "print(f'l2 норма вектора b:\\n{norm(b, ord=2)}')\n",
        "\n",
        "cos_phi = np.dot(a, b) / norm(a) / norm(b)\n",
        "print(f'Косинус угла между a и b: {cos_phi:.2f}')\n",
        "print(f'Угол между a и b: {np.arccos(cos_phi):.2f}')"
      ],
      "metadata": {
        "colab": {
          "base_uri": "https://localhost:8080/"
        },
        "id": "VXb4W3_SNydG",
        "outputId": "0acf36d7-c89a-4c62-f1ca-877c3ccfbd59"
      },
      "execution_count": 13,
      "outputs": [
        {
          "output_type": "stream",
          "name": "stdout",
          "text": [
            "l2 норма вектора a:\n",
            "6.0\n",
            "l2 норма вектора b:\n",
            "13.0\n",
            "Косинус угла между a и b: 0.90\n",
            "Угол между a и b: 0.46\n"
          ]
        }
      ]
    },
    {
      "cell_type": "markdown",
      "source": [
        "\n",
        "\n",
        "3. Будет ли линейное пространство евклидовым, если за скалярное произведение принять:\n",
        "а) произведение длин векторов;\n",
        "б) утроенное обычное скалярное произведение векторов?\n",
        "\n",
        "4. Какие из нижеперечисленных векторов образуют ортонормированный базис в линейном пространстве  R3 :\n",
        "а)  (1,0,0),(0,0,1); \n",
        "б)  (1/2–√,−1/2–√,0),(1/2–√,1/2–√,0),(0,0,1); \n",
        "в)  (1/2,−1/2,0),(0,1/2,1/2),(0,0,1); \n",
        "г)  (1,0,0),(0,1,0),(0,0,1)?"
      ],
      "metadata": {
        "id": "XPU9LPXsN030"
      }
    }
  ],
  "metadata": {
    "colab": {
      "name": "Дз 1.2._Линейная алгебра.ipynb",
      "provenance": [],
      "authorship_tag": "ABX9TyNNJPQ0zJR5cUPAliqsMdWp",
      "include_colab_link": true
    },
    "kernelspec": {
      "display_name": "Python 3",
      "name": "python3"
    },
    "language_info": {
      "name": "python"
    }
  },
  "nbformat": 4,
  "nbformat_minor": 0
}