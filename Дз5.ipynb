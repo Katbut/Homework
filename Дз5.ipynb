{
  "nbformat": 4,
  "nbformat_minor": 0,
  "metadata": {
    "colab": {
      "name": "Дз5.ipynb",
      "provenance": [],
      "authorship_tag": "ABX9TyN8Ltfc/z/5CujGQ/dgUMfs",
      "include_colab_link": true
    },
    "kernelspec": {
      "name": "python3",
      "display_name": "Python 3"
    },
    "language_info": {
      "name": "python"
    }
  },
  "cells": [
    {
      "cell_type": "markdown",
      "metadata": {
        "id": "view-in-github",
        "colab_type": "text"
      },
      "source": [
        "<a href=\"https://colab.research.google.com/github/Katbut/Homework/blob/main/%D0%94%D0%B75.ipynb\" target=\"_parent\"><img src=\"https://colab.research.google.com/assets/colab-badge.svg\" alt=\"Open In Colab\"/></a>"
      ]
    },
    {
      "cell_type": "markdown",
      "source": [
        "В результате 10 независимых измерений некоторой величины X, выполненных с одинаковой точностью,\n",
        "получены опытные данные:\n",
        "6.9, 6.1, 6.2, 6.8, 7.5, 6.3, 6.4, 6.9, 6.7, 6.1\n",
        "Предполагая, что результаты измерений подчинены нормальному закону распределения вероятностей,\n",
        "оценить истинное значение величины X при помощи доверительного интервала, покрывающего это\n",
        "значение с доверительной вероятностью 0,95.\n"
      ],
      "metadata": {
        "id": "Wi3uxt9KVJ4e"
      }
    },
    {
      "cell_type": "code",
      "execution_count": 1,
      "metadata": {
        "colab": {
          "base_uri": "https://localhost:8080/"
        },
        "id": "XOgCRA0mMoKv",
        "outputId": "f9c3c99e-f546-4afa-f93d-47414fc8cf8e"
      },
      "outputs": [
        {
          "output_type": "execute_result",
          "data": {
            "text/plain": [
              "array([6.9, 6.1, 6.2, 6.8, 7.5, 6.3, 6.4, 6.9, 6.7, 6.1])"
            ]
          },
          "metadata": {},
          "execution_count": 1
        }
      ],
      "source": [
        "import numpy as np\n",
        "x= np.array([6.9,6.1,6.2,6.8,7.5,6.3,6.4,6.9,6.7,6.1])\n",
        "x"
      ]
    },
    {
      "cell_type": "code",
      "source": [
        "variance =x.var(ddof=1)\n",
        "variance"
      ],
      "metadata": {
        "colab": {
          "base_uri": "https://localhost:8080/"
        },
        "id": "h0ZlWka_RFh-",
        "outputId": "a4ea6e0b-b3da-419e-c2fc-6bb1d1c6a2b4"
      },
      "execution_count": 2,
      "outputs": [
        {
          "output_type": "execute_result",
          "data": {
            "text/plain": [
              "0.2032222222222223"
            ]
          },
          "metadata": {},
          "execution_count": 2
        }
      ]
    },
    {
      "cell_type": "code",
      "source": [
        "s=(variance)**0.5\n",
        "s"
      ],
      "metadata": {
        "colab": {
          "base_uri": "https://localhost:8080/"
        },
        "id": "BwGncxVQTRcN",
        "outputId": "bd73cf72-8cde-4aa8-a306-4b9ecfb9bdd7"
      },
      "execution_count": 3,
      "outputs": [
        {
          "output_type": "execute_result",
          "data": {
            "text/plain": [
              "0.4508017549014448"
            ]
          },
          "metadata": {},
          "execution_count": 3
        }
      ]
    },
    {
      "cell_type": "code",
      "source": [
        "mu=x.mean()"
      ],
      "metadata": {
        "id": "Thzdb-0jUR3k"
      },
      "execution_count": 11,
      "outputs": []
    },
    {
      "cell_type": "code",
      "source": [
        "mu+(2.262*s)/np.sqrt(10)\n"
      ],
      "metadata": {
        "colab": {
          "base_uri": "https://localhost:8080/"
        },
        "id": "VCLBSzqPTXo1",
        "outputId": "3ea3050c-f25b-466f-9139-8440f4cbe8c4"
      },
      "execution_count": 14,
      "outputs": [
        {
          "output_type": "execute_result",
          "data": {
            "text/plain": [
              "6.912461744087575"
            ]
          },
          "metadata": {},
          "execution_count": 14
        }
      ]
    },
    {
      "cell_type": "code",
      "source": [
        "mu-(2.262*s)/np.sqrt(10)"
      ],
      "metadata": {
        "colab": {
          "base_uri": "https://localhost:8080/"
        },
        "id": "Iwtqf8HkTi8J",
        "outputId": "b8e36e34-0651-4997-a27b-903610f4712a"
      },
      "execution_count": 13,
      "outputs": [
        {
          "output_type": "execute_result",
          "data": {
            "text/plain": [
              "6.267538255912426"
            ]
          },
          "metadata": {},
          "execution_count": 13
        }
      ]
    },
    {
      "cell_type": "markdown",
      "source": [
        "Продавец утверждает, что средний вес пачки печенья составляет 200 г.\n",
        "Из партии извлечена выборка из 10 пачек. Вес каждой пачки составляет:\n",
        "202, 203, 199, 197, 195, 201, 200, 204, 194, 190.\n",
        "Известно, что их веса распределены нормально.\n",
        "Верно ли утверждение продавца, если учитывать, что доверительная вероятность равна 99%?"
      ],
      "metadata": {
        "id": "sgr6GRgUU-Vu"
      }
    },
    {
      "cell_type": "code",
      "source": [
        "x= np.array([202, 203, 199, 197, 195, 201, 200, 204, 194, 190])\n",
        "x"
      ],
      "metadata": {
        "id": "COyupWpib_ge",
        "outputId": "46dee26f-35c5-4d1a-f82e-4e338cf04e16",
        "colab": {
          "base_uri": "https://localhost:8080/"
        }
      },
      "execution_count": 15,
      "outputs": [
        {
          "output_type": "execute_result",
          "data": {
            "text/plain": [
              "array([202, 203, 199, 197, 195, 201, 200, 204, 194, 190])"
            ]
          },
          "metadata": {},
          "execution_count": 15
        }
      ]
    },
    {
      "cell_type": "code",
      "source": [
        "mu=x.mean()\n",
        "mu"
      ],
      "metadata": {
        "id": "qRYOA94ScIgb",
        "outputId": "1405451a-fb84-4acf-bb23-00f59f70492e",
        "colab": {
          "base_uri": "https://localhost:8080/"
        }
      },
      "execution_count": 18,
      "outputs": [
        {
          "output_type": "execute_result",
          "data": {
            "text/plain": [
              "198.5"
            ]
          },
          "metadata": {},
          "execution_count": 18
        }
      ]
    },
    {
      "cell_type": "code",
      "source": [
        "variance =x.var(ddof=1)\n",
        "variance"
      ],
      "metadata": {
        "id": "p2qztlE0cUQ-",
        "outputId": "d031fe85-4843-483d-c475-91955b47f909",
        "colab": {
          "base_uri": "https://localhost:8080/"
        }
      },
      "execution_count": 19,
      "outputs": [
        {
          "output_type": "execute_result",
          "data": {
            "text/plain": [
              "19.833333333333332"
            ]
          },
          "metadata": {},
          "execution_count": 19
        }
      ]
    },
    {
      "cell_type": "code",
      "source": [
        "s=(variance)**0.5\n",
        "s"
      ],
      "metadata": {
        "id": "Z31oVtpWcWhc",
        "outputId": "3c8b94ad-c6ad-4968-d0b7-4ae6ca729338",
        "colab": {
          "base_uri": "https://localhost:8080/"
        }
      },
      "execution_count": 20,
      "outputs": [
        {
          "output_type": "execute_result",
          "data": {
            "text/plain": [
              "4.453463071962462"
            ]
          },
          "metadata": {},
          "execution_count": 20
        }
      ]
    },
    {
      "cell_type": "code",
      "source": [
        "T=((198.5-200)*(10)**0.5)/4.453\n",
        "T"
      ],
      "metadata": {
        "id": "W94ymnWKdqSz",
        "outputId": "24357b72-2229-4f21-ad0d-73e5aeec0df5",
        "colab": {
          "base_uri": "https://localhost:8080/"
        }
      },
      "execution_count": 24,
      "outputs": [
        {
          "output_type": "execute_result",
          "data": {
            "text/plain": [
              "-1.0652181653385513"
            ]
          },
          "metadata": {},
          "execution_count": 24
        }
      ]
    }
  ]
}