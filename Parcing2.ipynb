{
  "nbformat": 4,
  "nbformat_minor": 0,
  "metadata": {
    "colab": {
      "name": "Parcing2.ipynb",
      "provenance": [],
      "authorship_tag": "ABX9TyOegdNw+aPb0NXAQAAEwL/F",
      "include_colab_link": true
    },
    "kernelspec": {
      "name": "python3",
      "display_name": "Python 3"
    },
    "language_info": {
      "name": "python"
    }
  },
  "cells": [
    {
      "cell_type": "markdown",
      "metadata": {
        "id": "view-in-github",
        "colab_type": "text"
      },
      "source": [
        "<a href=\"https://colab.research.google.com/github/Katbut/Homework/blob/main/Parcing2.ipynb\" target=\"_parent\"><img src=\"https://colab.research.google.com/assets/colab-badge.svg\" alt=\"Open In Colab\"/></a>"
      ]
    },
    {
      "cell_type": "code",
      "execution_count": null,
      "metadata": {
        "id": "He856y-yOmYC"
      },
      "outputs": [],
      "source": [
        "from bs4 import BeautifulSoup as bs\n",
        "import requests\n",
        "from pprint import pprint\n",
        "import time\n",
        "import re\n",
        "\n",
        "headers={'user-agent':'\tMozilla/5.0 (Windows NT 10.0; Win64; x64) AppleWebKit/537.36 (KHTML, like Gecko) Chrome/99.0.4844.84 Safari/537.36'}\n",
        "base_url='https://hh.ru/search/vacancy'\n",
        "search_word = input('Enter what to search: ')\n",
        "url= f'{base_url}/{search_word}'\n",
        "response=requests.get(base_url)\n",
        "\n",
        "dom = bs(response.text, 'html.parser')\n",
        "vacancies= dom.find_all('div',{'class': 'vacancy-serp-item'})\n",
        "\n",
        "def max_num():\n",
        "    mxnum=0\n",
        "    for item in dom.find_all('a',{'data-qa':'pager-page'}):\n",
        "        mxnum = list(item.strings)[0].split(\"\")[-1]\n",
        "    return mxnum\n",
        "maxpage = int(max_num())\n",
        "\n",
        "def data_parse(pages):\n",
        "    vacancies_list=[]\n",
        "    for page in range(pages):\n",
        "        url2=f'{base_url}/{search_word}?page={page}'\n",
        "        response2= dom2.find_all('div',{'class':'vacancy-serp-item'})\n",
        "        for vacancy in vacancies2:\n",
        "            vacancy_data={}\n",
        "            vacancy_title = vacancy.find('a',{'data-qa':'vacancy-serp_vacancy-title'}).text.strip()\n",
        "            vacancy_employer = vacancy.find('div',{'class':'vacancy-serp-item_meta-info-company'}).text.strip()\n",
        "            vacancy_link=vacancy.find('a',{'data-qa':'vacancy-serp_vacancy-title'}).get('href')\n",
        "\n",
        "            vacancy_salary=vacancy.find('span', {'data-qa':'vacancy-serp_vacancy-compensation'})\n",
        "            vacancy_salary_data = {'min_salary':'','max_salary':'', 'currency':''}\n",
        "            if vacancy_salary is None:\n",
        "                vacancy_salary_data['min_salary']='None'\n",
        "                vacancy_salary_data['max_salary']='None'\n",
        "                vacancy_salary_data['currency']='None'\n",
        "            else:\n",
        "                vacancy_salary = geolovacancy_salary.text.replace(\"\\u202f\",'').split()\n",
        "                if 'от' in vacancy_salary:\n",
        "                    if 'руб' in vacancy_salary:\n",
        "                        vacancy_salary_data['min_salary']=int(vacacny_salary[1])\n",
        "                        vacancy_salary_data['max_salary']='None'\n",
        "                        vacancy_salary_data['currency']='руб'\n",
        "                    if 'USD' in vacancy_salary:\n",
        "                        vacancy_salary_data['min_salary'] = int(vacacny_salary[1])\n",
        "                        vacancy_salary_data['max_salary'] = 'None'\n",
        "                        vacancy_salary_data['currency'] = 'USD'\n",
        "                if 'до' in vacancy_salary:\n",
        "                    if 'руб' in vacancy_salary :\n",
        "                        vacancy_salary_data['min_salary'] = 'None'\n",
        "                        vacancy_salary_data['max_salary'] = int(vacacny_salary[1])\n",
        "                        vacancy_salary_data['currency'] = 'руб'\n",
        "                    if 'USD' in vacancy_salary:\n",
        "                        vacancy_salary_data['min_salary'] = 'None'\n",
        "                        vacancy_salary_data['max_salary'] = int(vacacny_salary[1])\n",
        "                        vacancy_salary_data['currency'] = 'USD'\n",
        "                if 'от' not in vacancy_salary and 'до' not in vacancy_salary:\n",
        "                    if 'руб' in vacancy_salary:\n",
        "                        vacancy_salary_data['min_salary']=int(vacacny_salary[0])\n",
        "                        vacancy_salary_data['max_salary']='None'\n",
        "                        vacancy_salary_data['currency']='руб'\n",
        "                    if 'USD' in vacancy_salary:\n",
        "                        vacancy_salary_data['min_salary'] = int(vacacny_salary[0])\n",
        "                        vacancy_salary_data['max_salary'] = 'None'\n",
        "                        vacancy_salary_data['currency'] = 'USD'\n",
        "            vacancy_data['vacancy_title']=vacancy_title\n",
        "            vacancy_data['vacancy_employer']=vacancy_employer\n",
        "            vacancy_data['vacancy_link']= vacancy_link\n",
        "            vacancy_data['vacancy_salary']=vacancy_salary_data\n",
        "            vacancies_list.append(vacancy_data)\n",
        "        return vacancies_list\n",
        "\n",
        "    data=data_parse(max_page)\n",
        "\n",
        "    def data_to_json(data):\n",
        "        with open(f'{search_word}.json','w', encoding='utf-8') as file:\n",
        "            json.dump(data,file, ensure_ascii=False, indent=4)\n",
        "    data_to_json(data)\n"
      ]
    }
  ]
}